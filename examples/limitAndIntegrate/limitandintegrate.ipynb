{
 "cells": [
  {
   "cell_type": "code",
   "execution_count": 2,
   "metadata": {
    "collapsed": true
   },
   "outputs": [],
   "source": [
    "%matplotlib inline\n",
    "from BasicAction import *\n",
    "import numpy as np"
   ]
  },
  {
   "cell_type": "code",
   "execution_count": 3,
   "outputs": [
    {
     "name": "stderr",
     "output_type": "stream",
     "text": [
      "2020-09-04 11:15:57,992 basicAction.py[line:46] INFO limit sin(x)/x is ====1\n"
     ]
    },
    {
     "data": {
      "text/plain": "1",
      "text/latex": "$\\displaystyle 1$"
     },
     "execution_count": 3,
     "metadata": {},
     "output_type": "execute_result"
    }
   ],
   "source": [
    "#求极限\n",
    "from sympy import *\n",
    "alge= baseAlgebra()\n",
    "x = alge.getSymbols('x')\n",
    "alge.limit(sin(x)/x,x,0)"
   ],
   "metadata": {
    "collapsed": false,
    "pycharm": {
     "name": "#%%\n"
    }
   }
  },
  {
   "cell_type": "code",
   "execution_count": 4,
   "outputs": [
    {
     "name": "stderr",
     "output_type": "stream",
     "text": [
      "2020-09-04 11:15:58,134 basicAction.py[line:46] INFO limit (1 + 1/x)**x is ====E\n"
     ]
    },
    {
     "data": {
      "text/plain": "E",
      "text/latex": "$\\displaystyle e$"
     },
     "execution_count": 4,
     "metadata": {},
     "output_type": "execute_result"
    }
   ],
   "source": [
    "# 求无穷极限\n",
    "x = alge.getSymbols('x')\n",
    "alge.limit(pow(1+1/x,x),x,oo)\n",
    "\n"
   ],
   "metadata": {
    "collapsed": false,
    "pycharm": {
     "name": "#%%\n"
    }
   }
  },
  {
   "cell_type": "code",
   "execution_count": 5,
   "outputs": [
    {
     "name": "stderr",
     "output_type": "stream",
     "text": [
      "2020-09-04 11:15:58,177 basicAction.py[line:46] INFO sin(2*x) 的关于 (x, 0, pi) 的积分结果为 0\n",
      "2020-09-04 11:15:58,312 basicAction.py[line:46] INFO sin(x)/x 的关于 (x, 0, oo) 的积分结果为 pi/2\n"
     ]
    },
    {
     "data": {
      "text/plain": "pi/2",
      "text/latex": "$\\displaystyle \\frac{\\pi}{2}$"
     },
     "execution_count": 5,
     "metadata": {},
     "output_type": "execute_result"
    }
   ],
   "source": [
    "# 求积分\n",
    "x = alge.getSymbols('x')\n",
    "alge.calIntegrate(sin(2*x),(x,0,pi))\n",
    "alge.calIntegrate(sin(x)/x,(x,0,oo))"
   ],
   "metadata": {
    "collapsed": false,
    "pycharm": {
     "name": "#%%\n"
    }
   }
  },
  {
   "cell_type": "code",
   "execution_count": 6,
   "outputs": [
    {
     "name": "stderr",
     "output_type": "stream",
     "text": [
      "2020-09-04 11:15:58,328 basicAction.py[line:46] INFO fucntion 的解为：{1: 2, 2: 3}\n"
     ]
    }
   ],
   "source": [
    "# 方程求解\n",
    "x,y=alge.getSymbols('x y')\n",
    "equation = ((x-2)**3)*((x-1)**2)\n",
    "alge.solve_function(equation,x)"
   ],
   "metadata": {
    "collapsed": false,
    "pycharm": {
     "name": "#%%\n"
    }
   }
  },
  {
   "cell_type": "code",
   "execution_count": 7,
   "outputs": [
    {
     "name": "stderr",
     "output_type": "stream",
     "text": [
      "2020-09-04 11:15:58,347 basicAction.py[line:46] INFO fucntion 的解为：[(-sqrt(2)/2, -sqrt(2)/2), (sqrt(2)/2, sqrt(2)/2)]\n"
     ]
    }
   ],
   "source": [
    "x,y=alge.getSymbols('x y')\n",
    "equ1=x**2+y**2-1\n",
    "equ2=x-y\n",
    "alge.solve_function([equ1,equ2],[x,y])"
   ],
   "metadata": {
    "collapsed": false,
    "pycharm": {
     "name": "#%%\n"
    }
   }
  },
  {
   "cell_type": "code",
   "execution_count": 8,
   "outputs": [
    {
     "name": "stderr",
     "output_type": "stream",
     "text": [
      "2020-09-04 11:15:58,949 basicAction.py[line:46] INFO funtion resultEq(y(x), (-x**2/2 - x - 3*exp(x)/(1 - exp(2)) + (4 - exp(2))/(1 - exp(2)))*exp(2*x))\n"
     ]
    }
   ],
   "source": [
    "# 微分方程求解\n",
    "x=alge.getSymbols('x')\n",
    "y=alge.getSymbols('y',cls=Function)\n",
    "eq1=diff(y(x),x,2)-5*diff(y(x),x)+6*y(x)-x*exp(2*x)\n",
    "\n",
    "alge.solve_diff_function(eq1,y(x),ics={\n",
    "    y(0):1,\n",
    "    y(2):0\n",
    "})\n"
   ],
   "metadata": {
    "collapsed": false,
    "pycharm": {
     "name": "#%%\n"
    }
   }
  },
  {
   "cell_type": "code",
   "execution_count": 9,
   "outputs": [
    {
     "name": "stdout",
     "output_type": "stream",
     "text": [
      "(87.45019779526699, 8.742462398458883e-08)\n"
     ]
    }
   ],
   "source": [
    "# 二重积分\n",
    "from scipy.integrate import dblquad\n",
    "# 三重积分\n",
    "from scipy.integrate import tplquad\n",
    "# 一定要倒着，\n",
    "f=lambda z,y,x: z*np.sqrt(x**2+y**2+1)\n",
    "bd = lambda x:sqrt(2*x-x**2)\n",
    "print(tplquad(f,0,2,lambda x:-bd(x),bd,0,6))"
   ],
   "metadata": {
    "collapsed": false,
    "pycharm": {
     "name": "#%%\n"
    }
   }
  },
  {
   "cell_type": "code",
   "execution_count": 11,
   "outputs": [
    {
     "name": "stdout",
     "output_type": "stream",
     "text": [
      "方程解： Matrix([[4], [-14/9], [-2/9], [4/9]])\n"
     ]
    }
   ],
   "source": [
    "# 矩阵求解\n",
    "import sympy as sp\n",
    "A = sp.Matrix([\n",
    "    [2,1,-5,1],\n",
    "    [1,-3,0,-6],\n",
    "    [0,2,-1,2],\n",
    "    [1,4,-7,6]\n",
    "])\n",
    "B = sp.Matrix([8,6,-2,2])\n",
    "B.transpose()\n",
    "print(\"方程解：\",A.inv()*B)"
   ],
   "metadata": {
    "collapsed": false,
    "pycharm": {
     "name": "#%%\n"
    }
   }
  },
  {
   "cell_type": "code",
   "execution_count": null,
   "outputs": [],
   "source": [],
   "metadata": {
    "collapsed": false,
    "pycharm": {
     "name": "#%%\n"
    }
   }
  }
 ],
 "metadata": {
  "kernelspec": {
   "display_name": "Python 3",
   "language": "python",
   "name": "python3"
  },
  "language_info": {
   "codemirror_mode": {
    "name": "ipython",
    "version": 2
   },
   "file_extension": ".py",
   "mimetype": "text/x-python",
   "name": "python",
   "nbconvert_exporter": "python",
   "pygments_lexer": "ipython2",
   "version": "2.7.6"
  }
 },
 "nbformat": 4,
 "nbformat_minor": 0
}