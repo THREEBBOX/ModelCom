{
 "cells": [
  {
   "cell_type": "code",
   "execution_count": 1,
   "metadata": {
    "collapsed": true
   },
   "outputs": [],
   "source": [
    "# 差分方程\n",
    "%matplotlib inline\n",
    "from BasicAction import *\n",
    "import numpy as np\n"
   ]
  },
  {
   "cell_type": "code",
   "execution_count": 2,
   "outputs": [
    {
     "name": "stdout",
     "output_type": "stream",
     "text": [
      "2**(-n)*sqrt(5)*(-(1 - sqrt(5))**n + (1 + sqrt(5))**n)/5\n"
     ]
    }
   ],
   "source": [
    "import sympy as sp\n",
    "y = sp.Function('y')\n",
    "from sympy.abc import n\n",
    "f = y(n+2) - y(n+1) - y(n)\n",
    "ff = sp.rsolve(f,y(n),{\n",
    "    y(1):1,\n",
    "    y(2):1\n",
    "})\n",
    "ff = sp.simplify(ff)\n",
    "print(ff)"
   ],
   "metadata": {
    "collapsed": false,
    "pycharm": {
     "name": "#%%\n"
    }
   }
  },
  {
   "cell_type": "code",
   "execution_count": 3,
   "outputs": [
    {
     "name": "stdout",
     "output_type": "stream",
     "text": [
      "C0 + k**2 + 2*k + 3/4\n"
     ]
    }
   ],
   "source": [
    "from sympy.abc import k\n",
    "y=sp.Function('y')\n",
    "f = y(k+1)-y(k)-3-2*k\n",
    "f1 = sp.rsolve(f,y(k))\n",
    "f2 = sp.simplify(f1)\n",
    "print(f2)"
   ],
   "metadata": {
    "collapsed": false,
    "pycharm": {
     "name": "#%%\n"
    }
   }
  },
  {
   "cell_type": "code",
   "execution_count": 4,
   "outputs": [
    {
     "name": "stdout",
     "output_type": "stream",
     "text": [
      "1600000.0 - 600000.0*1.005**k\n"
     ]
    }
   ],
   "source": [
    "# 差分方程求解\n",
    "from sympy.abc import k\n",
    "y = sp.Function('y')\n",
    "f = y(k+1)-1.005*y(k)+8000\n",
    "f1 = sp.rsolve(f,y(k),{\n",
    "    y(0):1000000\n",
    "})\n",
    "f2 = sp.simplify(f1)\n",
    "print(f2)"
   ],
   "metadata": {
    "collapsed": false,
    "pycharm": {
     "name": "#%%\n"
    }
   }
  },
  {
   "cell_type": "code",
   "execution_count": 5,
   "outputs": [
    {
     "name": "stderr",
     "output_type": "stream",
     "text": [
      "2020-09-09 16:30:55,166 basicAction.py[line:46] INFO draw plot E:\\ModelCom\\savedata\\graphDir20200909\\plot\\inputtitile16_30_55_plot.png\n"
     ]
    },
    {
     "data": {
      "text/plain": "<Figure size 432x288 with 1 Axes>",
      "image/png": "[encoded data removed]"
     },
     "metadata": {
      "needs_background": "light"
     },
     "output_type": "display_data"
    },
    {
     "name": "stdout",
     "output_type": "stream",
     "text": [
      "[13159.438924111892, 5225.236118732719, -2748.6377006734256, -10762.380889176857, -18816.19279362238]\n"
     ]
    }
   ],
   "source": [
    "# 利息求解\n",
    "x = np.linspace(0,200,201)\n",
    "y=[]\n",
    "for k in x:\n",
    "    y.append(1600000.0-600000.0*1.005**k)\n",
    "graph = baseGraph()\n",
    "graph.plot([x],[y])\n",
    "print(y[195:200])"
   ],
   "metadata": {
    "collapsed": false,
    "pycharm": {
     "name": "#%%\n"
    }
   }
  },
  {
   "cell_type": "code",
   "execution_count": 6,
   "outputs": [
    {
     "name": "stdout",
     "output_type": "stream",
     "text": [
      "Matrix([[7000], [500.000000000000], [250.000000000000]])\n",
      "Matrix([[2750.00000000000], [3500.00000000000], [125.000000000000]])\n"
     ]
    }
   ],
   "source": [
    "# liese 方程\n",
    "L = sp.Matrix([\n",
    "    [0,4,3],\n",
    "    [0.5,0,0],\n",
    "    [0,0.25,0]\n",
    "])\n",
    "X = sp.Matrix([1000,1000,1000])\n",
    "\n",
    "print(L*X)\n",
    "print(L*L*X)"
   ],
   "metadata": {
    "collapsed": false,
    "pycharm": {
     "name": "#%%\n"
    }
   }
  },
  {
   "cell_type": "code",
   "execution_count": 7,
   "outputs": [
    {
     "name": "stderr",
     "output_type": "stream",
     "text": [
      "2020-09-09 16:30:55,260 basicAction.py[line:46] INFO scatter xlabelinput xlable\n",
      " ylabelinput ylable\n",
      "2020-09-09 16:30:55,319 basicAction.py[line:46] INFO draw scatter E:\\ModelCom\\savedata\\graphDir20200909\\scater\\input_title16_30_55_scater.png\n"
     ]
    },
    {
     "data": {
      "text/plain": "<Figure size 432x288 with 1 Axes>",
      "image/png": "[encoded data removed]"
     },
     "metadata": {
      "needs_background": "light"
     },
     "output_type": "display_data"
    },
    {
     "name": "stdout",
     "output_type": "stream",
     "text": [
      "[ 8.7 10.7 18.2 23.9 48.  55.5 82.7 93.4 90.3 72.3 46.4 35.1 34.6 11.4\n",
      " 10.3  4.6  3.9  2.2]\n"
     ]
    }
   ],
   "source": [
    "# s曲线增长类\n",
    "data = [9.6,18.3,29,47.2,71.1,119.1,174.6,\n",
    "        257.3,350.7,441.0,513.3,559.7,594.8,\n",
    "        629.4,640.8,651.1,655.7,659.6,661.8]\n",
    "data = np.array(data)\n",
    "time=np.arange(0,19)\n",
    "graph.scatter([time],[data])\n",
    "matrix1 = np.c_[data[:-1],-data[:-1]**2]\n",
    "matrix2 = np.array(data[1:]-data[:-1])\n",
    "print(matrix2)"
   ],
   "metadata": {
    "collapsed": false,
    "pycharm": {
     "name": "#%%\n"
    }
   }
  },
  {
   "cell_type": "code",
   "execution_count": 8,
   "outputs": [
    {
     "name": "stdout",
     "output_type": "stream",
     "text": [
      "[0.55774146 0.0008528 ]\n",
      "654.0133708633373\n",
      "[9.6, 14.875724112322422, 22.9838188614958, 35.35235177684866, 54.00400632756139, 81.6371508645216, 121.48599440664583, 176.65745132559107, 248.57263160879063, 334.5188941649456, 425.66336075506933, 508.55554914055807, 571.6399202101585, 611.796443925153, 633.8226585015216, 644.7361999729111, 649.8370659449454, 652.1514902400636, 653.186981943998]\n"
     ]
    }
   ],
   "source": [
    "result = np.linalg.pinv(matrix1).dot(matrix2)\n",
    "print(result)\n",
    "x0 = data[0]\n",
    "xn=0;\n",
    "rlist = [x0]\n",
    "r = result[0]\n",
    "N = result[0] / result[1]\n",
    "print(N)\n",
    "for i in range(1,19):\n",
    "    xn = x0+r*x0*(1-x0/N)\n",
    "    x0 = xn\n",
    "    rlist.append(xn)\n",
    "print(rlist)"
   ],
   "metadata": {
    "collapsed": false,
    "pycharm": {
     "name": "#%%\n"
    }
   }
  },
  {
   "cell_type": "code",
   "execution_count": 14,
   "outputs": [
    {
     "ename": "TypeError",
     "evalue": "'str' object is not callable",
     "output_type": "error",
     "traceback": [
      "\u001B[1;31m---------------------------------------------------------------------------\u001B[0m",
      "\u001B[1;31mTypeError\u001B[0m                                 Traceback (most recent call last)",
      "\u001B[1;32m<ipython-input-14-e903bdfcb9a9>\u001B[0m in \u001B[0;36m<module>\u001B[1;34m\u001B[0m\n\u001B[0;32m      7\u001B[0m \u001B[0mplt\u001B[0m\u001B[1;33m.\u001B[0m\u001B[0mplot\u001B[0m\u001B[1;33m(\u001B[0m\u001B[0mtime\u001B[0m\u001B[1;33m,\u001B[0m\u001B[0mrlist\u001B[0m\u001B[1;33m,\u001B[0m\u001B[0mcolor\u001B[0m\u001B[1;33m=\u001B[0m\u001B[1;34m'b'\u001B[0m\u001B[1;33m)\u001B[0m\u001B[1;33m\u001B[0m\u001B[0m\n\u001B[0;32m      8\u001B[0m \u001B[0mplt\u001B[0m\u001B[1;33m.\u001B[0m\u001B[0mtitle\u001B[0m\u001B[1;33m(\u001B[0m\u001B[1;34m\"拉屎\"\u001B[0m\u001B[1;33m)\u001B[0m\u001B[1;33m\u001B[0m\u001B[0m\n\u001B[1;32m----> 9\u001B[1;33m \u001B[0mplt\u001B[0m\u001B[1;33m.\u001B[0m\u001B[0mxlabel\u001B[0m\u001B[1;33m(\u001B[0m\u001B[1;34m\"sjt\"\u001B[0m\u001B[1;33m)\u001B[0m\u001B[1;33m\u001B[0m\u001B[0m\n\u001B[0m\u001B[0;32m     10\u001B[0m \u001B[0mplt\u001B[0m\u001B[1;33m.\u001B[0m\u001B[0mshow\u001B[0m\u001B[1;33m(\u001B[0m\u001B[1;33m)\u001B[0m\u001B[1;33m\u001B[0m\u001B[0m\n",
      "\u001B[1;31mTypeError\u001B[0m: 'str' object is not callable"
     ]
    },
    {
     "data": {
      "text/plain": "<Figure size 432x288 with 1 Axes>",
      "image/png": "[encoded data removed]"
     },
     "metadata": {
      "needs_background": "light"
     },
     "output_type": "display_data"
    }
   ],
   "source": [
    "import matplotlib.pyplot as plt\n",
    "import pylab as mpl\n",
    "ax = plt.figure()\n",
    "mpl.rcParams['font.sans-serif'] = ['FangSong']  # 指定默认字体\n",
    "mpl.rcParams['axes.unicode_minus'] = False\n",
    "plt.scatter(time,data,color='r',marker='*')\n",
    "plt.plot(time,rlist,color='b')\n",
    "plt.title(\"拉屎\")\n",
    "plt.xlabel(\"sjt\")\n",
    "plt.show()"
   ],
   "metadata": {
    "collapsed": false,
    "pycharm": {
     "name": "#%%\n"
    }
   }
  },
  {
   "cell_type": "code",
   "execution_count": null,
   "outputs": [],
   "source": [],
   "metadata": {
    "collapsed": false,
    "pycharm": {
     "name": "#%%\n"
    }
   }
  }
 ],
 "metadata": {
  "kernelspec": {
   "display_name": "Python 3",
   "language": "python",
   "name": "python3"
  },
  "language_info": {
   "codemirror_mode": {
    "name": "ipython",
    "version": 2
   },
   "file_extension": ".py",
   "mimetype": "text/x-python",
   "name": "python",
   "nbconvert_exporter": "python",
   "pygments_lexer": "ipython2",
   "version": "2.7.6"
  }
 },
 "nbformat": 4,
 "nbformat_minor": 0
}