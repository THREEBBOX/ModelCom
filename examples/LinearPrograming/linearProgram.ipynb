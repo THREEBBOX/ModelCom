{
 "cells": [
  {
   "cell_type": "code",
   "execution_count": 1,
   "metadata": {
    "collapsed": true
   },
   "outputs": [],
   "source": [
    "%matplotlib inline\n",
    "from BasicAction import *\n",
    "import numpy as np"
   ]
  },
  {
   "cell_type": "code",
   "execution_count": 2,
   "outputs": [
    {
     "name": "stderr",
     "output_type": "stream",
     "text": [
      "2020-09-06 16:28:32,822 basicAction.py[line:46] INFO 最小值为：-21.999999840824934\n",
      "2020-09-06 16:28:32,822 basicAction.py[line:46] INFO 最小值为：-21.999999840824934\n",
      "2020-09-06 16:28:32,825 basicAction.py[line:46] INFO 最佳解为：[ 9.99999989 -2.99999999]\n",
      "2020-09-06 16:28:32,825 basicAction.py[line:46] INFO 最佳解为：[ 9.99999989 -2.99999999]\n"
     ]
    },
    {
     "data": {
      "text/plain": "(-21.999999840824934, array([ 9.99999989, -2.99999999]))"
     },
     "execution_count": 2,
     "metadata": {},
     "output_type": "execute_result"
    }
   ],
   "source": [
    "# 线性规划求最小值，只能求最小值，最大值请求反\n",
    "c = [-1,4]#target\n",
    "A = [\n",
    "    [-3,1],\n",
    "    [1,2]\n",
    "]# 线性范围矩阵\n",
    "b = [6,4] # 线性范围矩阵\n",
    "bounds = [(None,None),(-3,None)]\n",
    "\n",
    "opt = baseOptimize()\n",
    "opt.linear_optimize(c=c,A=A,b=b,Aeq=None,beq=None,limitTuple=bounds)\n",
    "\n"
   ],
   "metadata": {
    "collapsed": false,
    "pycharm": {
     "name": "#%%\n"
    }
   }
  },
  {
   "cell_type": "code",
   "execution_count": 3,
   "outputs": [
    {
     "data": {
      "text/plain": "array([5, 7, 9])"
     },
     "execution_count": 3,
     "metadata": {},
     "output_type": "execute_result"
    }
   ],
   "source": [
    "matrix = np.array([\n",
    "    [1,2,3],\n",
    "    [4,5,6]\n",
    "])\n",
    "np.sum(matrix,axis=0)\n"
   ],
   "metadata": {
    "collapsed": false,
    "pycharm": {
     "name": "#%%\n"
    }
   }
  },
  {
   "cell_type": "code",
   "execution_count": 4,
   "outputs": [
    {
     "name": "stdout",
     "output_type": "stream",
     "text": [
      "[[0.    0.025 0.    0.    0.   ]\n",
      " [0.    0.    0.015 0.    0.   ]\n",
      " [0.    0.    0.    0.055 0.   ]\n",
      " [0.    0.    0.    0.    0.025]]\n",
      "[0. 0. 0. 0.]\n"
     ]
    }
   ],
   "source": [
    "a=np.c_[np.zeros(4),np.diag([0.025,0.015,0.055,0.025])]\n",
    "print(a)\n",
    "print(np.zeros(4))"
   ],
   "metadata": {
    "collapsed": false,
    "pycharm": {
     "name": "#%%\n"
    }
   }
  },
  {
   "cell_type": "code",
   "execution_count": 5,
   "outputs": [],
   "source": [
    "# 优化曲线\n",
    "c = [-0.05, -0.27, -0.19, -0.185, -0.185] #target\n",
    "A = np.c_[np.zeros(4),np.diag([0.025,0.015,0.055,0.025])]\n",
    "Aeq=[[1, 1.01, 1.02, 1.045, 1.065]]\n",
    "beq = [1]"
   ],
   "metadata": {
    "collapsed": false,
    "pycharm": {
     "name": "#%%\n"
    }
   }
  },
  {
   "cell_type": "code",
   "execution_count": 6,
   "outputs": [
    {
     "name": "stdout",
     "output_type": "stream",
     "text": [
      "50\n",
      "50\n"
     ]
    }
   ],
   "source": [
    "# 边界优化分析\n",
    "from scipy.optimize import linprog\n",
    "a=0\n",
    "aa=[]\n",
    "ss=[]\n",
    "while a<0.05:\n",
    "    b = np.ones(4)*a\n",
    "    res=linprog(c,A,b,Aeq,beq)\n",
    "    a =a +0.001\n",
    "    aa.append(a)\n",
    "    ss.append(-res.fun)\n",
    "print(len(aa))\n",
    "print(len(ss))"
   ],
   "metadata": {
    "collapsed": false,
    "pycharm": {
     "name": "#%%\n"
    }
   }
  },
  {
   "cell_type": "code",
   "execution_count": 7,
   "outputs": [
    {
     "name": "stderr",
     "output_type": "stream",
     "text": [
      "2020-09-06 16:28:33,003 basicAction.py[line:46] INFO scatter xlabelinput xlable\n",
      " ylabelinput ylable\n",
      "2020-09-06 16:28:33,003 basicAction.py[line:46] INFO scatter xlabelinput xlable\n",
      " ylabelinput ylable\n",
      "2020-09-06 16:28:33,003 basicAction.py[line:46] INFO scatter xlabelinput xlable\n",
      " ylabelinput ylable\n",
      "2020-09-06 16:28:33,139 basicAction.py[line:46] INFO draw scatter E:\\ModelCom\\savedata\\graphDir20200906\\scater\\input_title16_28_33_scater.png\n",
      "2020-09-06 16:28:33,139 basicAction.py[line:46] INFO draw scatter E:\\ModelCom\\savedata\\graphDir20200906\\scater\\input_title16_28_33_scater.png\n",
      "2020-09-06 16:28:33,139 basicAction.py[line:46] INFO draw scatter E:\\ModelCom\\savedata\\graphDir20200906\\scater\\input_title16_28_33_scater.png\n"
     ]
    },
    {
     "data": {
      "text/plain": "<Figure size 432x288 with 1 Axes>",
      "image/png": "[encoded data removed]"
     },
     "metadata": {
      "needs_background": "light"
     },
     "output_type": "display_data"
    }
   ],
   "source": [
    "graph = baseGraph()\n",
    "\n",
    "graph.scatter([aa],[ss])"
   ],
   "metadata": {
    "collapsed": false,
    "pycharm": {
     "name": "#%%\n"
    }
   }
  },
  {
   "cell_type": "code",
   "execution_count": 8,
   "outputs": [
    {
     "name": "stdout",
     "output_type": "stream",
     "text": [
      "350.0\n",
      "[2. 3.]\n"
     ]
    },
    {
     "name": "stderr",
     "output_type": "stream",
     "text": [
      "d:\\env_model_com\\lib\\site-packages\\cvxpy\\expressions\\expression.py:516: UserWarning: \n",
      "This use of ``*`` has resulted in matrix multiplication.\n",
      "Using ``*`` for matrix multiplication has been deprecated since CVXPY 1.1.\n",
      "    Use ``*`` for matrix-scalar and vector-scalar multiplication.\n",
      "    Use ``@`` for matrix-matrix and matrix-vector multiplication.\n",
      "    Use ``multiply`` for elementwise multiplication.\n",
      "\n",
      "  warnings.warn(__STAR_MATMUL_WARNING__, UserWarning)\n",
      "d:\\env_model_com\\lib\\site-packages\\cvxpy\\expressions\\expression.py:516: UserWarning: \n",
      "This use of ``*`` has resulted in matrix multiplication.\n",
      "Using ``*`` for matrix multiplication has been deprecated since CVXPY 1.1.\n",
      "    Use ``*`` for matrix-scalar and vector-scalar multiplication.\n",
      "    Use ``@`` for matrix-matrix and matrix-vector multiplication.\n",
      "    Use ``multiply`` for elementwise multiplication.\n",
      "\n",
      "  warnings.warn(__STAR_MATMUL_WARNING__, UserWarning)\n"
     ]
    }
   ],
   "source": [
    "# 整数优化\n",
    "\n",
    "import cvxpy as cp\n",
    "c = np.array([40,90])\n",
    "a = np.array([\n",
    "    [9,7],\n",
    "    [-7,-20]\n",
    "])\n",
    "b = np.array([56,-70])\n",
    "x =cp.Variable(2,integer=True)#整数限制\n",
    "obj = cp.Minimize(c*x)\n",
    "cons = [a*x<=b,x>=0]\n",
    "prob = cp.Problem(obj,cons)\n",
    "prob.solve(solver='GLPK_MI',verbose=True)\n",
    "print(prob.value)\n",
    "print(x.value)\n"
   ],
   "metadata": {
    "collapsed": false,
    "pycharm": {
     "name": "#%%\n"
    }
   }
  },
  {
   "cell_type": "code",
   "execution_count": 9,
   "outputs": [
    {
     "name": "stdout",
     "output_type": "stream",
     "text": [
      "34.0\n",
      "[[0. 0. 1. 0. 0.]\n",
      " [0. 1. 0. 0. 0.]\n",
      " [1. 0. 0. 0. 0.]\n",
      " [0. 0. 0. 1. 0.]\n",
      " [0. 0. 0. 0. 1.]]\n"
     ]
    }
   ],
   "source": [
    "c = np.array([\n",
    "    [4,8,7,15,12],\n",
    "    [7,9,17,14,10],\n",
    "    [6,9,12,8,7],\n",
    "    [6,7,14,6,10],\n",
    "    [6,9,12,10,6]\n",
    "])\n",
    "x = cp.Variable(shape=(5,5),integer=True)\n",
    "obj = cp.Minimize(cp.sum(cp.multiply(c,x)))\n",
    "con =[\n",
    "    x>=0,x<=1,\n",
    "    cp.sum(x,axis=1,keepdims=True)==1,\n",
    "    cp.sum(x,axis=0,keepdims=True)==1\n",
    "]\n",
    "prob = cp.Problem(obj,con)\n",
    "prob.solve(solver='GLPK_MI',verbose=True)\n",
    "print(prob.value)\n",
    "print(x.value)\n",
    "\n",
    "\n"
   ],
   "metadata": {
    "collapsed": false,
    "pycharm": {
     "name": "#%%\n"
    }
   }
  },
  {
   "cell_type": "code",
   "execution_count": 10,
   "outputs": [
    {
     "name": "stderr",
     "output_type": "stream",
     "text": [
      "d:\\env_model_com\\lib\\site-packages\\cvxpy\\expressions\\expression.py:516: UserWarning: \n",
      "This use of ``*`` has resulted in matrix multiplication.\n",
      "Using ``*`` for matrix multiplication has been deprecated since CVXPY 1.1.\n",
      "    Use ``*`` for matrix-scalar and vector-scalar multiplication.\n",
      "    Use ``@`` for matrix-matrix and matrix-vector multiplication.\n",
      "    Use ``multiply`` for elementwise multiplication.\n",
      "\n",
      "  warnings.warn(__STAR_MATMUL_WARNING__, UserWarning)\n",
      "d:\\env_model_com\\lib\\site-packages\\cvxpy\\expressions\\expression.py:516: UserWarning: \n",
      "This use of ``*`` has resulted in matrix multiplication.\n",
      "Using ``*`` for matrix multiplication has been deprecated since CVXPY 1.1.\n",
      "    Use ``*`` for matrix-scalar and vector-scalar multiplication.\n",
      "    Use ``@`` for matrix-matrix and matrix-vector multiplication.\n",
      "    Use ``multiply`` for elementwise multiplication.\n",
      "\n",
      "  warnings.warn(__STAR_MATMUL_WARNING__, UserWarning)\n",
      "d:\\env_model_com\\lib\\site-packages\\cvxpy\\expressions\\expression.py:516: UserWarning: \n",
      "This use of ``*`` has resulted in matrix multiplication.\n",
      "Using ``*`` for matrix multiplication has been deprecated since CVXPY 1.1.\n",
      "    Use ``*`` for matrix-scalar and vector-scalar multiplication.\n",
      "    Use ``@`` for matrix-matrix and matrix-vector multiplication.\n",
      "    Use ``multiply`` for elementwise multiplication.\n",
      "\n",
      "  warnings.warn(__STAR_MATMUL_WARNING__, UserWarning)\n"
     ]
    },
    {
     "name": "stdout",
     "output_type": "stream",
     "text": [
      "[4. 1. 0. 0. 0.]\n",
      "-17.0\n"
     ]
    }
   ],
   "source": [
    "c2 = np.array([1,1,3,4,2])\n",
    "c1 = np.array([-8,-2,-3,-1,-2])\n",
    "x = cp.Variable(5,integer=True)\n",
    "b = np.array([400,800,200,200])\n",
    "a = np.array([\n",
    "    [1,1,1,1,1],\n",
    "    [1,2,2,1,6],\n",
    "    [2,1,6,0,0],\n",
    "    [0,0,1,1,5]\n",
    "])\n",
    "obj = cp.Minimize(c2*x**2+c1*x)\n",
    "con = [0<=x,x<=99, a*x<=b]\n",
    "prob= cp.Problem(obj,con)\n",
    "prob.solve()# 安装cplex可以解决\n",
    "\n",
    "print(x.value)\n",
    "print(prob.value)\n"
   ],
   "metadata": {
    "collapsed": false,
    "pycharm": {
     "name": "#%%\n"
    }
   }
  }
 ],
 "metadata": {
  "kernelspec": {
   "display_name": "Python 3",
   "language": "python",
   "name": "python3"
  },
  "language_info": {
   "codemirror_mode": {
    "name": "ipython",
    "version": 2
   },
   "file_extension": ".py",
   "mimetype": "text/x-python",
   "name": "python",
   "nbconvert_exporter": "python",
   "pygments_lexer": "ipython2",
   "version": "2.7.6"
  }
 },
 "nbformat": 4,
 "nbformat_minor": 0
}